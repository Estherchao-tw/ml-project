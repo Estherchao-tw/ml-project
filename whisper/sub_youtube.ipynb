{
 "cells": [
  {
   "cell_type": "code",
   "execution_count": 5,
   "metadata": {},
   "outputs": [],
   "source": [
    "from youtube_transcript_api import YouTubeTranscriptApi\n",
    "import os\n",
    "\n",
    "str = YouTubeTranscriptApi.get_transcript(\"AFezAAVFs1M\")\n",
    "text = \"\"\n",
    "with open(\"prayer.txt\",\"w\") as file:\n",
    "    for i in str:\n",
    "        text += i[\"text\"] + \"\\n\"\n",
    "    file.write(text)\n",
    "os.startfile(\"prayer.txt\")"
   ]
  },
  {
   "cell_type": "markdown",
   "metadata": {},
   "source": [
    "## 實現youtube 影片CC字幕下載\n",
    "## install \n",
    "- pip install youtube-transcript-api==0.6.1\n",
    "\n",
    "**how to download yt**\n",
    "- only change url in get_transcript(\"\")\n",
    "\n",
    "---\n",
    "**Error and solution**\n",
    "\n",
    "<ul>\n",
    "<li>youtube-transcript</li>\n",
    "\n",
    "error:Subtitles are disabled for this video \"\"\n",
    "<br>\n",
    "method:video have cc subtitle is suited for this code,otherwise,plz use whisper code\n",
    "</ul>\n"
   ]
  },
  {
   "cell_type": "markdown",
   "metadata": {},
   "source": []
  }
 ],
 "metadata": {
  "kernelspec": {
   "display_name": ".venv",
   "language": "python",
   "name": "python3"
  },
  "language_info": {
   "codemirror_mode": {
    "name": "ipython",
    "version": 3
   },
   "file_extension": ".py",
   "mimetype": "text/x-python",
   "name": "python",
   "nbconvert_exporter": "python",
   "pygments_lexer": "ipython3",
   "version": "3.8.0"
  },
  "orig_nbformat": 4
 },
 "nbformat": 4,
 "nbformat_minor": 2
}
