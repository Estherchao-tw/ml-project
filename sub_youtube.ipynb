{
 "cells": [
  {
   "cell_type": "code",
   "execution_count": 5,
   "metadata": {},
   "outputs": [],
   "source": [
    "from youtube_transcript_api import YouTubeTranscriptApi\n",
    "import os\n",
    "\n",
    "str = YouTubeTranscriptApi.get_transcript(\"AFezAAVFs1M\")\n",
    "text = \"\"\n",
    "with open(\"prayer.txt\",\"w\") as file:\n",
    "    for i in str:\n",
    "        text += i[\"text\"] + \"\\n\"\n",
    "    file.write(text)\n",
    "os.startfile(\"prayer.txt\")"
   ]
  },
  {
   "cell_type": "markdown",
   "metadata": {},
   "source": [
    "## 實現youtube 影片CC字幕\n",
    "## install \n",
    "- pip install youtube_transcript_api\n",
    "\n",
    "### Method\n",
    "- only change url in get_transcript(\"\")\n",
    "\n",
    "\"\" error :Subtitles are disabled for this video \"\"\n",
    "video doesn't have cc subtitle"
   ]
  }
 ],
 "metadata": {
  "kernelspec": {
   "display_name": ".venv",
   "language": "python",
   "name": "python3"
  },
  "language_info": {
   "codemirror_mode": {
    "name": "ipython",
    "version": 3
   },
   "file_extension": ".py",
   "mimetype": "text/x-python",
   "name": "python",
   "nbconvert_exporter": "python",
   "pygments_lexer": "ipython3",
   "version": "3.8.0"
  },
  "orig_nbformat": 4
 },
 "nbformat": 4,
 "nbformat_minor": 2
}
