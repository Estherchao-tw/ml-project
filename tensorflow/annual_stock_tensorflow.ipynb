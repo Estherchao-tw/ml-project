{
 "cells": [
  {
   "cell_type": "code",
   "execution_count": null,
   "metadata": {},
   "outputs": [],
   "source": [
    "import numpy as np\n",
    "import pandas as pd\n",
    "from sklearn.preprocessing import MinMaxScaler\n",
    "import tensorflow as tf \n",
    "from tensorflow import keras\n",
    "from keras.layers import Dense,Activation\n",
    "from keras.optimizers import Adam\n",
    "import seaborn as sns\n",
    "import os \n",
    "import warnings \n",
    "import matplotlib.pyplot as plt\n",
    "import matplotlib.dates as mdates    #處理日期\n",
    "import warnings \n",
    "\n",
    "warnings.filterwarnings(\"ignore\")\n",
    "data = pd.read_csv('./2018_2022/2018_2021_year_stock.csv')\n",
    "\n",
    "date =data['日期']\n",
    "\n",
    "# only can run once\n",
    "for i in range(0,len(date)):\n",
    "  date.iloc[i]=date.iloc[i].replace(date.iloc[i][0:3], str(int(date.iloc[i][0:3]) + 1911))\n",
    "print('-'*20)\n",
    "\n",
    "\n",
    "date=pd.to_datetime(date,format='%Y/%m/%d' ) \n",
    "data['日期'] = pd.to_datetime(data['日期'])\n",
    "\n",
    "# print(data.info())\n",
    "\n"
   ]
  },
  {
   "cell_type": "markdown",
   "metadata": {},
   "source": [
    "** 二層前饋神經網路模型**\n",
    "\n",
    "\n",
    "- to_numpy:from dataframe to array\n",
    "- reshape(-1,1): from 1D array to 2D array"
   ]
  },
  {
   "cell_type": "code",
   "execution_count": null,
   "metadata": {},
   "outputs": [],
   "source": [
    "close_data_ = data['收盤價']\n",
    "dataset=close_data_.to_numpy().reshape(-1,1)\n",
    "print(\"-\"*20)\n",
    "training = int(np.ceil(len(dataset) * .95))\n",
    "# print(\"traning:\",training) #884\n",
    "\n",
    "\n",
    "# 正規化數值\n",
    "scaler = MinMaxScaler(feature_range=(0,1))\n",
    "scaled_data = scaler.fit_transform(dataset)\n",
    "\n",
    "# 將資料擴充為二維2D，資料scaled_data的前884個資料\n",
    "train_data = scaled_data[0:int(training),:]\n",
    "\n",
    "# 創建自己的dataset\n",
    "# prepare feature and labels\n",
    "x_train = []\n",
    "y_train = []\n",
    "# labels\n",
    "# labels的範圍是從60到884，總共824天資料範圍\n",
    "# X_train 是0~60,1~61,2~62....,824~884\n",
    "for i in range(60, len(train_data)):\n",
    "  x_train.append(train_data[i-60:i,0])\n",
    "  y_train.append(train_data[i,0])\n",
    "\n",
    "x_train,y_train = np.array(x_train),np.array(y_train)\n",
    "x_train = np.reshape(x_train,(x_train.shape[0],x_train.shape[1],1))\n",
    "print(x_train)"
   ]
  },
  {
   "cell_type": "markdown",
   "metadata": {},
   "source": [
    "\n",
    "\n",
    "## use tensorflow to build LDTM model\n",
    "創建model，他是sequential類型的網路模型\n",
    "這個model不是變數，而是sequential 類別生成的物件。請把物件當作幾個變數和函數的集合。Keras透過在model中增加\"層\"的方式定義網路結構。\n",
    "* LSTM\n",
    "LSTM 接受的輸入是三個維度，在 input_shape 參數中，可以僅輸入每一個 Sample 的維度，即是 (time_step, input_dim)。此處為 (10, 20) 表示每一個 Sample 有 10 個時間單位，每一個時間單位都是 20 維度的向量。至於 batch_size，則是實際將 data 輸入至神經網路時再決定即可。\n",
    "* Dense\n",
    "這個model增加\"全連結層Dense\"作為(網路)中間層\n",
    "Dense()的第一個參數的值32是神經元的數量。\n",
    "<br>\n",
    " units 參數即是表示 Ct 與 ot 的維度，Ct 與 ot 的維度又會決定 ht 的維度，也就是 LSTM 最後輸出的維度。<br>"
   ]
  },
  {
   "cell_type": "code",
   "execution_count": null,
   "metadata": {},
   "outputs": [],
   "source": [
    "model = keras.models.Sequential()\n",
    "model.add(keras.layers.LSTM(units=64,\n",
    "                            return_sequences=True,\n",
    "                            input_shape=(x_train.shape[1],1)))\n",
    "model.add(keras.layers.LSTM(units=64,return_sequences=False,activation='relu'))\n",
    "model.add(keras.layers.Dense(32))\n",
    "model.add(keras.layers.Dropout(0.5))\n",
    "model.add(keras.layers.Dense(1))\n",
    "model.summary()\n",
    "\n",
    "\n"
   ]
  },
  {
   "cell_type": "markdown",
   "metadata": {},
   "source": [
    "### model.compile\n",
    "* optimizier: 這是通過使用梯度下降來幫助優化成本函數的方法。\n",
    "* loss:我們用來監控模型是否隨著訓練而改進的損失函數。\n",
    "\n",
    "將adam資料傳給compile()，以設定訓練方法。\n",
    "以均方誤差做為目標函數。<br>\n",
    "#mse為跑回歸任務的其中一個loss function\n",
    "#回歸任務沒有acc只有loss\n",
    "\n",
    "\n",
    "### model.fit()\n",
    "參數x_train和y_train用於指定訓練資料，\n"
   ]
  },
  {
   "cell_type": "code",
   "execution_count": null,
   "metadata": {},
   "outputs": [],
   "source": [
    "model.compile(optimizer=\"adam\",loss='mean_squared_error')\n",
    "history= model.fit(x_train,y_train,epochs=10)"
   ]
  },
  {
   "cell_type": "markdown",
   "metadata": {},
   "source": [
    "為了進行預測，我們需要測試數據，因此我們首先創建測試數據，然後進行模型預測。\n",
    "- mse: mean square error 平均平方誤差\n",
    "- rmse: root mean square error 均方根誤差\n",
    "- x_test is target"
   ]
  },
  {
   "cell_type": "code",
   "execution_count": null,
   "metadata": {},
   "outputs": [],
   "source": [
    "test_data = scaled_data[training-60:,:]\n",
    "x_test = []\n",
    "y_test = dataset[training:,:]\n",
    "for i in range(60,len(test_data)):\n",
    "    x_test.append(test_data[i-60:i,0])\n",
    "\n",
    "x_test = np.array(x_test)\n",
    "x_test0 = np.reshape(x_test,(x_test.shape[0],x_test.shape[1],1))\n",
    "\n",
    "# predict the testing data\n",
    "\n",
    "predictions = model.predict(x_test0)\n",
    "# print(predictions)\n",
    "predictions = scaler.inverse_transform(predictions)\n",
    "\n",
    "mse = np.mean(((predictions - x_test) ** 2))\n",
    "# print(\"MSE\",mse)\n",
    "# print(\"RMSE\",np.sqrt(mse))\n",
    "\n",
    "def rmse(predictions,targets):\n",
    "    #valueError: operands could not be broadcast together with shapes (46,1) (46,60,1)\n",
    "    return np.sqrt(((predictions - targets) ** 2 ).mean())\n",
    "rmse_val = rmse(predictions,x_test)\n",
    "# print(\"rms error is: \" + str(rmse_val))\n",
    "\n"
   ]
  },
  {
   "cell_type": "markdown",
   "metadata": {},
   "source": [
    "我們已經預測了測試數據，讓我們可視化最終結果。"
   ]
  },
  {
   "cell_type": "code",
   "execution_count": null,
   "metadata": {},
   "outputs": [],
   "source": [
    "train = data[:training]\n",
    "test = data[training:]\n",
    "\n",
    "#train\n",
    "date = train['日期']\n",
    "close = train['收盤價']\n",
    "test['predictions']= predictions\n",
    "print(close,test['predictions'])\n",
    "#test\n",
    "date_ = test['日期']\n",
    "close_ = test[['收盤價',\"predictions\"]]\n",
    "plt.figure(figsize=(10,8))\n",
    "plt.plot(date,close)\n",
    "plt.plot(date_,close_)\n",
    "plt.title(\"0056 Stock Close Price\")\n",
    "plt.xlabel('Date')\n",
    "plt.ylabel('Close')\n",
    "plt.legend(['Train','Test','Predictions'])"
   ]
  }
 ],
 "metadata": {
  "kernelspec": {
   "display_name": "my_env",
   "language": "python",
   "name": "python3"
  },
  "language_info": {
   "codemirror_mode": {
    "name": "ipython",
    "version": 3
   },
   "file_extension": ".py",
   "mimetype": "text/x-python",
   "name": "python",
   "nbconvert_exporter": "python",
   "pygments_lexer": "ipython3",
   "version": "3.8.0"
  },
  "orig_nbformat": 4
 },
 "nbformat": 4,
 "nbformat_minor": 2
}
