{
 "cells": [
  {
   "cell_type": "code",
   "execution_count": 1,
   "metadata": {},
   "outputs": [
    {
     "name": "stdout",
     "output_type": "stream",
     "text": [
      "TOEIC Listening: Part 3 (Tips for Success!) has been successfully downloaded.\n"
     ]
    }
   ],
   "source": [
    "from pytube import YouTube\n",
    "\n",
    "url = 'https://youtu.be/EuySLyz_MBI'\n",
    "\n",
    "yt = YouTube(url)\n",
    "\n",
    "# 抓取標題試試看\n",
    "yt.title\n",
    "streams = yt.streams\n",
    "audio = streams.get_audio_only()\n",
    "\n",
    "# save the file\n",
    "obj = audio.download('./my_audio')\n",
    "# result of success\n",
    "print(yt.title + \" has been successfully downloaded.\")"
   ]
  },
  {
   "cell_type": "markdown",
   "metadata": {},
   "source": [
    "Pink Venom has been successfully downloaded."
   ]
  },
  {
   "cell_type": "markdown",
   "metadata": {},
   "source": [
    "下載模型(Model)\n",
    "不同模型有不同的準確度跟速度"
   ]
  },
  {
   "cell_type": "code",
   "execution_count": null,
   "metadata": {},
   "outputs": [],
   "source": [
    "import whisper\n",
    "\n",
    "model = whisper.load_model('base')"
   ]
  },
  {
   "cell_type": "markdown",
   "metadata": {},
   "source": [
    "100%|████████████████████████████████████████| 139M/139M [04:04<00:00, 595kiB/s]"
   ]
  },
  {
   "cell_type": "markdown",
   "metadata": {},
   "source": [
    "下載  文件檔"
   ]
  },
  {
   "cell_type": "code",
   "execution_count": 1,
   "metadata": {},
   "outputs": [
    {
     "name": "stdout",
     "output_type": "stream",
     "text": [
      "愛是我們的全力放下孤瓷的模樣想牽他一步 更多靠近更多見他愛讓我們月亮我們何好 愛讓聲明成真愛讓我們靠近 學習勇敢沒愛更多愛讓我們有道 我們微笑愛讓聲明成真愛讓我們勇敢愛讓我們 見起手勇敢去愛勇敢去愛不計較代價問怕定了心 只要眼底眼光愛是我們的全力放下孤瓷的模樣想牽他一步 更多靠近 更多見他愛讓我們月亮我們何好 愛讓聲明成真愛讓我們靠近 學習勇敢沒愛更多愛讓我們勇敢愛讓聲明成真愛讓我們勇敢愛讓我們 見起手愛讓我們月亮我們何好 愛讓聲明成真愛讓我們靠近 學習勇敢沒愛更多愛讓我們有道我們微笑愛讓聲明成真愛讓我們勇敢愛讓我們 見起手我們愛一聲先愛我們身隨你我呼呼我們一路上走我祝福的方向我們愛一聲先愛我們心在千長夜不要獨自飛翔只要微笑只要原諒有你愛的地方就是天空愛讓我們原諒我們何好愛讓聲明成真愛讓我們靠近學習勇敢沒愛更多愛讓我們有道我們微笑愛讓聲明成真愛讓我們勇敢愛讓我們見起手愛讓我們有愛讓我們有道見起手愛讓我們勇敢愛讓我們見起手只要微笑只要原諒愛讓我們見起手愛\n"
     ]
    }
   ],
   "source": [
    "import whisper\n",
    "from whisper.utils import get_writer\n",
    "\n",
    "model = whisper.load_model('base')\n",
    "result = model.transcribe(\"./my_audio/TOEIC Listening Part 3 (Tips for Success!).mp4\" , fp16=False,language = \"en\")\n",
    "print(result[\"text\"])\n",
    "\n",
    "# save SRT\n",
    "srt_writer = get_writer(\"srt\", \"./subtitles/\")\n",
    "srt_writer(result, \"listening.str\")"
   ]
  },
  {
   "cell_type": "markdown",
   "metadata": {},
   "source": [
    "output :愛是我們的全力放下孤瓷的模樣想牽他一步 更多靠近更多見他愛讓我們月亮我們何好 愛讓聲明成真愛讓我們靠近\n",
    "\n",
    "因為我們抓取的模型是\"base\"， 辨識出來的結果還是有些錯誤，可以自行抓取large的模型，就是loading比較久~"
   ]
  },
  {
   "cell_type": "markdown",
   "metadata": {},
   "source": [
    "##### 實現語音辨識文字\n",
    "**install**\n",
    "1. jupyter\n",
    "用easy_install更新pip\n",
    "2. pip install pytube\n",
    "  - 預處理工具 們下載youtube影片進行後續的語音辨識demo，算是一個語音前處理工具\n",
    "3. pip install openai-whisper\n",
    "  - 語音辨識工具:Whisper is a general-purpose speech recognition model. It is trained on a large dataset of diverse audio and is also a multitasking model that can perform multilingual speech recognition, speech translation, and language identification.\n",
    "\n",
    "\n",
    "---\n",
    "**Error and solution**\n",
    "\n",
    "<ul>\n",
    "<li><p>Jupyter</p></li>\n",
    " error: Microsoft Visual C++ 14.0 or greater is required.<br>\n",
    " method: download microsoft visual C++<br>\n",
    "<li><p>Pytube</p></li>\n",
    " error: nothing to repeat at position 2<br>\n",
    " metod:in the path of the library \\Python39\\Lib\\site-packages\\pytube change in cipher the function regex <br>\n",
    " var_regex = re.compile(r”^$*\\w+\\W”)\n",
    "<li><p>my_env</p><li>\n",
    " error:Fatal error in launcher: Unable to create process using....(I changed the path..)\n",
    " method:python -m pip install --upgrade --force-reinstall pip\n",
    "<li><p>whisper</p></li>\n",
    " error:model = whisper.load_model('base')<br>\n",
    " method:path of the library timing.py:57 @numba.jit(nopython=True)<br>\n",
    " error:FileNotFoundError: [WinError 2] The system cannot find the file specified<br>\n",
    " method:I solved this by installing ffmpeg.exe and adding the ffmpeg binary to my PATH environment variable.\n",
    "\n",
    "\n",
    "</ul>\n",
    "\n"
   ]
  },
  {
   "cell_type": "markdown",
   "metadata": {},
   "source": []
  }
 ],
 "metadata": {
  "kernelspec": {
   "display_name": "sub-env",
   "language": "python",
   "name": "python3"
  },
  "language_info": {
   "codemirror_mode": {
    "name": "ipython",
    "version": 3
   },
   "file_extension": ".py",
   "mimetype": "text/x-python",
   "name": "python",
   "nbconvert_exporter": "python",
   "pygments_lexer": "ipython3",
   "version": "3.8.0"
  },
  "orig_nbformat": 4
 },
 "nbformat": 4,
 "nbformat_minor": 2
}
