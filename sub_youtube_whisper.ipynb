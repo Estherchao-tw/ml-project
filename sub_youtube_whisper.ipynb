{
 "cells": [
  {
   "cell_type": "code",
   "execution_count": 1,
   "metadata": {},
   "outputs": [
    {
     "name": "stdout",
     "output_type": "stream",
     "text": [
      "TOEIC Listening: Part 3 (Tips for Success!) has been successfully downloaded.\n"
     ]
    }
   ],
   "source": [
    "from pytube import YouTube\n",
    "\n",
    "url = 'https://youtu.be/EuySLyz_MBI'\n",
    "\n",
    "yt = YouTube(url)\n",
    "\n",
    "# 抓取標題試試看\n",
    "yt.title\n",
    "streams = yt.streams\n",
    "audio = streams.get_audio_only()\n",
    "\n",
    "# save the file\n",
    "obj = audio.download('./my_audio')\n",
    "# result of success\n",
    "print(yt.title + \" has been successfully downloaded.\")"
   ]
  },
  {
   "cell_type": "markdown",
   "metadata": {},
   "source": [
    "Pink Venom has been successfully downloaded."
   ]
  },
  {
   "cell_type": "markdown",
   "metadata": {},
   "source": [
    "下載模型(Model)\n",
    "不同模型有不同的準確度跟速度"
   ]
  },
  {
   "cell_type": "code",
   "execution_count": null,
   "metadata": {},
   "outputs": [],
   "source": [
    "import whisper\n",
    "\n",
    "model = whisper.load_model('base')"
   ]
  },
  {
   "cell_type": "markdown",
   "metadata": {},
   "source": [
    "100%|████████████████████████████████████████| 139M/139M [04:04<00:00, 595kiB/s]"
   ]
  },
  {
   "cell_type": "markdown",
   "metadata": {},
   "source": [
    "下載  文件檔"
   ]
  },
  {
   "cell_type": "code",
   "execution_count": 2,
   "metadata": {},
   "outputs": [
    {
     "name": "stdout",
     "output_type": "stream",
     "text": [
      " Hey, hi there! In this video we're going to do part three of the Toic Listening Test. First I'll give you some tips on getting a high score at the test, and then after that we'll do a practice run of the test together. Okay, let's do it! Tip one. Study the questions and answers before listening to the conversation. Before the conversation is played, there are instructions. Take advantage of this time to read each question and four answers. Doing this will give you some idea of what the conversation is about. While the audio is playing, you need to focus on listening to choose the best answer and fill in the answer sheet. While the audio is reading each question, take advantage of this period of time to look at questions and answers for the next conversation. You have about eight seconds to select the correct answer once the question is spoken. Tip two. Common conversation topics. For part three, there are some recurring conversation topics such as making an appointment, weather reports, business trips for a seminar or a conference, communication in business, and trade. And there are recurring questions such as asking for a summary of the conversation. For example, what is the conversation about? What is the topic of the conversation? What are the speakers talking about? And who are the speakers talking about? And other questions ask for details. For example, what problem does the woman have? What does the man suggest? Or what is John's job? Finally, there are inference questions. An inference question is a conclusion reached on the basis of evidence and reasoning. Examples of inference questions are, what is the relationship between the two speakers? What will the woman probably do next? And where is the conversation likely taking place? Tip number three. Don't get confused. You will hear a lot of information in each conversation. But only one answer is correct. Other information is mentioned in order to distract or confuse test takers. To demonstrate, here's an example. In order to make the Sunday edition, you'll give me your final draft on Friday afternoon. Question. When does the man have to complete an assignment? In this example, the speaker says, in order to make the Sunday edition, you'll give me your final draft on Friday afternoon. Sunday and Friday are both mentioned in the statement, but the correct answer is B. Because the man has to complete his assignment on Friday afternoon. Okay, now let's take the test together. You will hear some conversations between two or more people. You will be asked to answer three questions about what the speakers say in each conversation. Select the best response to each question. The conversations will be spoken only one time. Questions 32 through 34 refer to the following conversation. Hello. I'm calling about a coffee machine I purchased from your website. It stopped working even though I haven't had it for very long. I expected it to last much longer than this. Oh, I'm sorry to hear that. I'll warranty covers products for up to a year. Do you know when you bought it? I've had it for a little over a year, so the warranty is probably just expired. This is so disappointing. Well, I'll tell you what we can do. Although we can't replace it since you're a valued customer, I can offer you a coupon for 40% off your next purchase. Number 32. Why is the woman calling? Number 33. What does the man ask the woman about? Number 34. What does the man offer to do? Number 32. What does the man offer to do? The answer for question 32 is B. At the beginning of the phone call, the woman says that she's calling about her broken coffee machine. Don't get distracted by the word warranty. The man and woman both say warranty, but it's not the reason for the call. The answer for question 33 is D. A date of purchase. The man asks the woman, Do you know when you bought it? He's asking the woman when she bought the coffee machine. The answer for question 34 is A. Provide a discount. The man offers the woman a coupon for 40% off her next purchase. 40% off means a 40% discount. Again, don't get distracted by the word warranty. Questions 35 through 37 refer to the following conversation. Oh, hi, Yolanda. I'm surprised to see you at the front desk this late. Don't you usually work at the hotel in the morning? Actually, I'm going to be working the evening shift for a while. I'm covering for a front desk supervisor who was just promoted, but only until the hotel hires a permanent replacement. Oh, so there's a front desk supervisor position open. I've been looking for a chance to take on a managerial role. Are they still accepting applications? Yes, and if you don't mind working evening hours, I think you have a good chance at the job. I'd contact the manager right now, though. She's starting interviews this week. Number 35. Where do the speakers work? Number 36. What does the man ask about? Number 37. What does the woman say the man should be prepared to do? The answer for question 35 is A. The man and woman both say hotel and front desk, so they clearly work in a hotel. The answer for question 36 is C. The man asks, are they still accepting applications for the front desk supervisor position? There are three distractors here. Promotion, manager, and shifts. All of these words are said in the conversation, but have no connection to the man's question, so be careful. The answer for question 37 is D. The woman says, if you don't mind working evening hours, I think you'd have a good chance at the job. Here, the woman is stating that the man should be prepared to work evening hours if he plans to apply for the position. Questions 38 through 40 refer to the following conversation with three speakers. Have you two taken a look at the progress they've made upstairs on the office expansion? It looks great. I know. I can't believe it, and the offices up there have amazing views of the city. I wonder which division will move up there when it's finished. I heard it's the research department. Ah, because they have the most people. Probably. I'd love to have an office on that floor though. Yeah. Well, the company must be making good money if they're adding that space. I think you're right there. Number 38. What is the conversation mainly about? Number 39. Why does the woman say, I can't believe it. Number 40. What do the men imply about the company? The correct answer for question 38 is A. This is a tricky question, because the word enlargement is not said in the conversation. However, at the beginning of the conversation, one man asks the other two speakers about an office expansion. Expansion is a synonym for enlargement. The correct answer for question 39 is D. Here, you have to infer meaning from context and intonation. The woman is happily surprised by how much progress has been made on the office expansion. The answer for question 40 is C. One man says the company is making good money. Making good money is a common expression. It means to earn a large amount of money. So they are clearly implying that the company is in a good financial situation. Questions 41 through 43 refer to the following conversation and list. Larry, we have a new graphic designer starting next month and we'll need to set her up with a laptop and extra monitor. Can you place orders for those? Sure. You know our vendor has raised their prices, right? Really? Yes, I just looked at the catalog a few minutes ago and their current models are more expensive. Right. Well, our budget per work area is $1,000 maximum. So let's order the system with the largest screen that falls within that price. Okay, I'll take a look at the prices again and place the order. Number 41. What does the woman ask the man to do? Number 42. What problem does the man mention? Number 43. Look at the graphic. What size screen will the man order? The correct answer for question 41 is a. At the beginning of the conversation, the woman asks Larry to order a new laptop and monitor for a new graphic designer. Don't get distracted by the words vendor and laptop. These words are said in the conversation, but the woman does not ask Larry to find a new vendor or repair a laptop. The answer for question 42 is B. This is another question with synonyms. The word supplier isn't said in the conversation. However, Larry says that the vendor has raised their prices. Vendor is a synonym for supplier and of course, raise is a synonym for increase. The correct answer for question 43 is C. The woman says that the budget is $1,000. She asks Larry to order the system with the largest screen that falls within that price. Fall within means that Larry should order a system at or below $1,000. If you see a question about numbers in the test, make a note on your test paper of any numbers mentioned in the conversation because they will probably be useful. Finished. Well done. I hope that video was helpful for you. If it was, please like and subscribe. I'll be making a part 4 video very soon for the TOEIC listening test. But for now, have a nice day. you\n"
     ]
    }
   ],
   "source": [
    "import whisper\n",
    "from whisper.utils import get_writer\n",
    "\n",
    "model = whisper.load_model('base')\n",
    "result = model.transcribe(\"./my_audio/TOEIC Listening Part 3 (Tips for Success!).mp4\" , fp16=False,language = \"en\")\n",
    "print(result[\"text\"])\n",
    "\n",
    "# save SRT\n",
    "srt_writer = get_writer(\"srt\", \"./subtitles/\")\n",
    "srt_writer(result, \"listening.str\")"
   ]
  },
  {
   "cell_type": "markdown",
   "metadata": {},
   "source": [
    "output :愛是我們的全力放下孤瓷的模樣想牽他一步 更多靠近更多見他愛讓我們月亮我們何好 愛讓聲明成真愛讓我們靠近\n",
    "\n",
    "因為我們抓取的模型是\"base\"， 辨識出來的結果還是有些錯誤，可以自行抓取large的模型，就是loading比較久~"
   ]
  },
  {
   "cell_type": "markdown",
   "metadata": {},
   "source": [
    "### 實現語音辨識文字\n",
    "**install**\n",
    "1. jupyter\n",
    "  - 用easy_install更新pip\n",
    "2. pip install pytube\n",
    "  - 預處理工具 們下載youtube影片進行後續的語音辨識demo，算是一個語音前處理工具\n",
    "3. pip install openai-whisper\n",
    "  - 語音辨識工具:Whisper is a general-purpose speech recognition model. It is trained on a large dataset of diverse audio and is also a multitasking model that can perform multilingual speech recognition, speech translation, and language identification.\n",
    "\n",
    "\n",
    "---\n",
    "**Error and solution**\n",
    "\n",
    "<ul>\n",
    "<li><p>Jupyter</p></li>\n",
    " error: Microsoft Visual C++ 14.0 or greater is required.<br>\n",
    " method: download microsoft visual C++<br>\n",
    "<li><p>Pytube</p></li>\n",
    " error: nothing to repeat at position 2<br>\n",
    " metod:in the path of the library \\Python39\\Lib\\site-packages\\pytube change in cipher the function regex <br>\n",
    " var_regex = re.compile(r”^$*\\w+\\W”)\n",
    "<li><p>my_env</p><li>\n",
    " error:Fatal error in launcher: Unable to create process using....(I changed the path..)\n",
    " method:python -m pip install --upgrade --force-reinstall pip\n",
    "<li><p>whisper</p></li>\n",
    " error:model = whisper.load_model('base')<br>\n",
    " method:path of the library timing.py:57 @numba.jit(nopython=True)<br>\n",
    " error:FileNotFoundError: [WinError 2] The system cannot find the file specified<br>\n",
    " method:I solved this by installing ffmpeg.exe and adding the ffmpeg binary to my PATH environment variable.\n",
    "\n",
    "\n",
    "</ul>\n",
    "\n"
   ]
  },
  {
   "cell_type": "markdown",
   "metadata": {},
   "source": []
  }
 ],
 "metadata": {
  "kernelspec": {
   "display_name": "sub-env",
   "language": "python",
   "name": "python3"
  },
  "language_info": {
   "codemirror_mode": {
    "name": "ipython",
    "version": 3
   },
   "file_extension": ".py",
   "mimetype": "text/x-python",
   "name": "python",
   "nbconvert_exporter": "python",
   "pygments_lexer": "ipython3",
   "version": "3.8.0"
  },
  "orig_nbformat": 4
 },
 "nbformat": 4,
 "nbformat_minor": 2
}
