{
 "cells": [
  {
   "cell_type": "code",
   "execution_count": 1,
   "metadata": {},
   "outputs": [],
   "source": [
    "from pytube import YouTube\n",
    "\n",
    "url = 'https://youtu.be/X1hNIRNQQE4?list=RDX1hNIRNQQE4'\n",
    "\n",
    "yt = YouTube(url)\n",
    "\n",
    "# 抓取標題試試看\n",
    "yt.title\n",
    "streams = yt.streams\n",
    "audio = streams.get_audio_only()\n",
    "\n",
    "# save the file\n",
    "obj = audio.download(filename='pinkVenom.mp4')\n",
    "# result of success\n",
    "print(yt.title + \" has been successfully downloaded.\")"
   ]
  },
  {
   "cell_type": "markdown",
   "metadata": {},
   "source": [
    "## 實現下載影片音樂\n",
    "\n",
    "## install\n",
    "###  juypter\n",
    " error: Microsoft Visual C++ 14.0 or greater is required.<br>\n",
    " method: download microsoft visual C++<br>\n",
    " error: nothing to repeat at position 2<br>\n",
    " metod:in the path of the library \\Python39\\Lib\\site-packages\\pytube change in cipher the function regex\n",
    "var_regex = re.compile(r”^$*\\w+\\W”)\n",
    "用easy_install更新pip\n",
    "- pip install openai-whisper\n",
    "  - 語音辨識工具\n",
    "- pip install pytube\n",
    "  - 預處理工具 們下載youtube影片進行後續的語音辨識demo，算是一個語音前處理工具\n",
    "\n"
   ]
  },
  {
   "cell_type": "markdown",
   "metadata": {},
   "source": []
  }
 ],
 "metadata": {
  "kernelspec": {
   "display_name": "sub-env",
   "language": "python",
   "name": "python3"
  },
  "language_info": {
   "codemirror_mode": {
    "name": "ipython",
    "version": 3
   },
   "file_extension": ".py",
   "mimetype": "text/x-python",
   "name": "python",
   "nbconvert_exporter": "python",
   "pygments_lexer": "ipython3",
   "version": "3.8.0"
  },
  "orig_nbformat": 4
 },
 "nbformat": 4,
 "nbformat_minor": 2
}
